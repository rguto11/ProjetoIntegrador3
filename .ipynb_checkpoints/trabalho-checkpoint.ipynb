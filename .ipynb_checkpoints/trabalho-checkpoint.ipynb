{
 "cells": [
  {
   "cell_type": "markdown",
   "id": "7f2088ba-2498-44e0-aca0-66a9dfabf0ea",
   "metadata": {
    "tags": []
   },
   "source": [
    "# TEM QUE RENOMEAR AS COLUNAS E EXPLICAR ELAS PRA COLOCAR NO SLIDE"
   ]
  },
  {
   "cell_type": "markdown",
   "id": "66027be5-0894-43eb-bfa9-a71f4d6a10a7",
   "metadata": {},
   "source": [
    "Importando dados"
   ]
  },
  {
   "cell_type": "code",
   "execution_count": 23,
   "id": "cc435b7d-b0ed-4055-b7cc-f726849d17b4",
   "metadata": {},
   "outputs": [],
   "source": [
    "import pandas as pd\n",
    "import numpy as np\n",
    "import matplotlib.pyplot as plt\n",
    "import seaborn as sns"
   ]
  },
  {
   "cell_type": "code",
   "execution_count": 43,
   "id": "32b2518e-9ae4-436f-910e-23e4adbd9b6b",
   "metadata": {},
   "outputs": [
    {
     "data": {
      "text/plain": [
       "Index(['ph', 'Hardness', 'Solids', 'Chloramines', 'Sulfate', 'Conductivity',\n",
       "       'Organic_carbon', 'Trihalomethanes', 'Turbidity', 'Potability'],\n",
       "      dtype='object')"
      ]
     },
     "execution_count": 43,
     "metadata": {},
     "output_type": "execute_result"
    }
   ],
   "source": [
    "Data = pd.read_csv('Data/water_potability.csv')\n",
    "Data.columns"
   ]
  },
  {
   "cell_type": "code",
   "execution_count": 45,
   "id": "69f8eb94-e826-43d0-9637-0e298bf10e3e",
   "metadata": {},
   "outputs": [
    {
     "data": {
      "text/html": [
       "<div>\n",
       "<style scoped>\n",
       "    .dataframe tbody tr th:only-of-type {\n",
       "        vertical-align: middle;\n",
       "    }\n",
       "\n",
       "    .dataframe tbody tr th {\n",
       "        vertical-align: top;\n",
       "    }\n",
       "\n",
       "    .dataframe thead th {\n",
       "        text-align: right;\n",
       "    }\n",
       "</style>\n",
       "<table border=\"1\" class=\"dataframe\">\n",
       "  <thead>\n",
       "    <tr style=\"text-align: right;\">\n",
       "      <th></th>\n",
       "      <th>ph</th>\n",
       "      <th>Hardness</th>\n",
       "      <th>Solids</th>\n",
       "      <th>Chloramines</th>\n",
       "      <th>Sulfate</th>\n",
       "      <th>Conductivity</th>\n",
       "      <th>Organic_carbon</th>\n",
       "      <th>Trihalomethanes</th>\n",
       "      <th>Turbidity</th>\n",
       "      <th>Potability</th>\n",
       "    </tr>\n",
       "  </thead>\n",
       "  <tbody>\n",
       "    <tr>\n",
       "      <th>0</th>\n",
       "      <td>NaN</td>\n",
       "      <td>204.890455</td>\n",
       "      <td>20791.318981</td>\n",
       "      <td>7.300212</td>\n",
       "      <td>368.516441</td>\n",
       "      <td>564.308654</td>\n",
       "      <td>10.379783</td>\n",
       "      <td>86.990970</td>\n",
       "      <td>2.963135</td>\n",
       "      <td>0</td>\n",
       "    </tr>\n",
       "    <tr>\n",
       "      <th>1</th>\n",
       "      <td>3.716080</td>\n",
       "      <td>129.422921</td>\n",
       "      <td>18630.057858</td>\n",
       "      <td>6.635246</td>\n",
       "      <td>NaN</td>\n",
       "      <td>592.885359</td>\n",
       "      <td>15.180013</td>\n",
       "      <td>56.329076</td>\n",
       "      <td>4.500656</td>\n",
       "      <td>0</td>\n",
       "    </tr>\n",
       "    <tr>\n",
       "      <th>2</th>\n",
       "      <td>8.099124</td>\n",
       "      <td>224.236259</td>\n",
       "      <td>19909.541732</td>\n",
       "      <td>9.275884</td>\n",
       "      <td>NaN</td>\n",
       "      <td>418.606213</td>\n",
       "      <td>16.868637</td>\n",
       "      <td>66.420093</td>\n",
       "      <td>3.055934</td>\n",
       "      <td>0</td>\n",
       "    </tr>\n",
       "    <tr>\n",
       "      <th>3</th>\n",
       "      <td>8.316766</td>\n",
       "      <td>214.373394</td>\n",
       "      <td>22018.417441</td>\n",
       "      <td>8.059332</td>\n",
       "      <td>356.886136</td>\n",
       "      <td>363.266516</td>\n",
       "      <td>18.436524</td>\n",
       "      <td>100.341674</td>\n",
       "      <td>4.628771</td>\n",
       "      <td>0</td>\n",
       "    </tr>\n",
       "    <tr>\n",
       "      <th>4</th>\n",
       "      <td>9.092223</td>\n",
       "      <td>181.101509</td>\n",
       "      <td>17978.986339</td>\n",
       "      <td>6.546600</td>\n",
       "      <td>310.135738</td>\n",
       "      <td>398.410813</td>\n",
       "      <td>11.558279</td>\n",
       "      <td>31.997993</td>\n",
       "      <td>4.075075</td>\n",
       "      <td>0</td>\n",
       "    </tr>\n",
       "    <tr>\n",
       "      <th>...</th>\n",
       "      <td>...</td>\n",
       "      <td>...</td>\n",
       "      <td>...</td>\n",
       "      <td>...</td>\n",
       "      <td>...</td>\n",
       "      <td>...</td>\n",
       "      <td>...</td>\n",
       "      <td>...</td>\n",
       "      <td>...</td>\n",
       "      <td>...</td>\n",
       "    </tr>\n",
       "    <tr>\n",
       "      <th>3271</th>\n",
       "      <td>4.668102</td>\n",
       "      <td>193.681735</td>\n",
       "      <td>47580.991603</td>\n",
       "      <td>7.166639</td>\n",
       "      <td>359.948574</td>\n",
       "      <td>526.424171</td>\n",
       "      <td>13.894419</td>\n",
       "      <td>66.687695</td>\n",
       "      <td>4.435821</td>\n",
       "      <td>1</td>\n",
       "    </tr>\n",
       "    <tr>\n",
       "      <th>3272</th>\n",
       "      <td>7.808856</td>\n",
       "      <td>193.553212</td>\n",
       "      <td>17329.802160</td>\n",
       "      <td>8.061362</td>\n",
       "      <td>NaN</td>\n",
       "      <td>392.449580</td>\n",
       "      <td>19.903225</td>\n",
       "      <td>NaN</td>\n",
       "      <td>2.798243</td>\n",
       "      <td>1</td>\n",
       "    </tr>\n",
       "    <tr>\n",
       "      <th>3273</th>\n",
       "      <td>9.419510</td>\n",
       "      <td>175.762646</td>\n",
       "      <td>33155.578218</td>\n",
       "      <td>7.350233</td>\n",
       "      <td>NaN</td>\n",
       "      <td>432.044783</td>\n",
       "      <td>11.039070</td>\n",
       "      <td>69.845400</td>\n",
       "      <td>3.298875</td>\n",
       "      <td>1</td>\n",
       "    </tr>\n",
       "    <tr>\n",
       "      <th>3274</th>\n",
       "      <td>5.126763</td>\n",
       "      <td>230.603758</td>\n",
       "      <td>11983.869376</td>\n",
       "      <td>6.303357</td>\n",
       "      <td>NaN</td>\n",
       "      <td>402.883113</td>\n",
       "      <td>11.168946</td>\n",
       "      <td>77.488213</td>\n",
       "      <td>4.708658</td>\n",
       "      <td>1</td>\n",
       "    </tr>\n",
       "    <tr>\n",
       "      <th>3275</th>\n",
       "      <td>7.874671</td>\n",
       "      <td>195.102299</td>\n",
       "      <td>17404.177061</td>\n",
       "      <td>7.509306</td>\n",
       "      <td>NaN</td>\n",
       "      <td>327.459760</td>\n",
       "      <td>16.140368</td>\n",
       "      <td>78.698446</td>\n",
       "      <td>2.309149</td>\n",
       "      <td>1</td>\n",
       "    </tr>\n",
       "  </tbody>\n",
       "</table>\n",
       "<p>3276 rows × 10 columns</p>\n",
       "</div>"
      ],
      "text/plain": [
       "            ph    Hardness        Solids  Chloramines     Sulfate  \\\n",
       "0          NaN  204.890455  20791.318981     7.300212  368.516441   \n",
       "1     3.716080  129.422921  18630.057858     6.635246         NaN   \n",
       "2     8.099124  224.236259  19909.541732     9.275884         NaN   \n",
       "3     8.316766  214.373394  22018.417441     8.059332  356.886136   \n",
       "4     9.092223  181.101509  17978.986339     6.546600  310.135738   \n",
       "...        ...         ...           ...          ...         ...   \n",
       "3271  4.668102  193.681735  47580.991603     7.166639  359.948574   \n",
       "3272  7.808856  193.553212  17329.802160     8.061362         NaN   \n",
       "3273  9.419510  175.762646  33155.578218     7.350233         NaN   \n",
       "3274  5.126763  230.603758  11983.869376     6.303357         NaN   \n",
       "3275  7.874671  195.102299  17404.177061     7.509306         NaN   \n",
       "\n",
       "      Conductivity  Organic_carbon  Trihalomethanes  Turbidity  Potability  \n",
       "0       564.308654       10.379783        86.990970   2.963135           0  \n",
       "1       592.885359       15.180013        56.329076   4.500656           0  \n",
       "2       418.606213       16.868637        66.420093   3.055934           0  \n",
       "3       363.266516       18.436524       100.341674   4.628771           0  \n",
       "4       398.410813       11.558279        31.997993   4.075075           0  \n",
       "...            ...             ...              ...        ...         ...  \n",
       "3271    526.424171       13.894419        66.687695   4.435821           1  \n",
       "3272    392.449580       19.903225              NaN   2.798243           1  \n",
       "3273    432.044783       11.039070        69.845400   3.298875           1  \n",
       "3274    402.883113       11.168946        77.488213   4.708658           1  \n",
       "3275    327.459760       16.140368        78.698446   2.309149           1  \n",
       "\n",
       "[3276 rows x 10 columns]"
      ]
     },
     "execution_count": 45,
     "metadata": {},
     "output_type": "execute_result"
    }
   ],
   "source": [
    "Data"
   ]
  },
  {
   "cell_type": "markdown",
   "id": "89d2f5c2-65c9-4e02-be08-ec58312c76e5",
   "metadata": {},
   "source": [
    "Renomeando as colunas para o português: "
   ]
  },
  {
   "cell_type": "code",
   "execution_count": null,
   "id": "c4dbf553-8115-47da-8436-9731fcca8857",
   "metadata": {},
   "outputs": [],
   "source": [
    "Data.rename(columns={'Hardness': 'Dureza',\n",
    "                     'Solids': 'Sólidos'})"
   ]
  },
  {
   "cell_type": "markdown",
   "id": "6b064f8f-e877-45e6-884a-93b31dbd4c3c",
   "metadata": {},
   "source": [
    "### Explicando as variáveis para por no slide depois:"
   ]
  },
  {
   "cell_type": "markdown",
   "id": "f0e22a28-dc6e-40e6-8793-2ad3e77c1cc4",
   "metadata": {},
   "source": [
    "* ___ph___: ph da água"
   ]
  },
  {
   "cell_type": "markdown",
   "id": "47c052c4-3715-495a-a236-fd75df8a9120",
   "metadata": {},
   "source": [
    "* ___Dureza___: \n",
    "Capacidade da água para precipitar sabão em mg/L"
   ]
  },
  {
   "cell_type": "markdown",
   "id": "74992ef2-51e5-41be-9ad3-db8a77116704",
   "metadata": {},
   "source": [
    "* ___Sólidos___: Total de sólidos dissolvidos em ppm"
   ]
  },
  {
   "cell_type": "markdown",
   "id": "2f36e804-a0f5-487e-8026-cf322c5ef2a8",
   "metadata": {},
   "source": []
  },
  {
   "cell_type": "markdown",
   "id": "de97b9b7-6db9-4af1-aa4b-50c237d89a60",
   "metadata": {},
   "source": []
  },
  {
   "cell_type": "markdown",
   "id": "faf38df5-9bfc-4066-a63c-4874113eca05",
   "metadata": {},
   "source": []
  },
  {
   "cell_type": "markdown",
   "id": "a2372594-b5d2-4175-9c55-7f8e3bb9da8e",
   "metadata": {},
   "source": []
  },
  {
   "cell_type": "markdown",
   "id": "9abce089-aff0-49b6-bacc-b0482ca30b4e",
   "metadata": {},
   "source": [
    "Vendo se tem NaN"
   ]
  },
  {
   "cell_type": "code",
   "execution_count": 25,
   "id": "a189899f-1a00-4e23-8121-4f135a1081eb",
   "metadata": {},
   "outputs": [
    {
     "data": {
      "text/plain": [
       "ph                 491\n",
       "Hardness             0\n",
       "Solids               0\n",
       "Chloramines          0\n",
       "Sulfate            781\n",
       "Conductivity         0\n",
       "Organic_carbon       0\n",
       "Trihalomethanes    162\n",
       "Turbidity            0\n",
       "Potability           0\n",
       "dtype: int64"
      ]
     },
     "execution_count": 25,
     "metadata": {},
     "output_type": "execute_result"
    }
   ],
   "source": [
    "Data.isnull().sum()"
   ]
  },
  {
   "cell_type": "code",
   "execution_count": 26,
   "id": "da122945-9dc6-4d3a-86d0-4c1f8831e8ea",
   "metadata": {},
   "outputs": [
    {
     "data": {
      "text/plain": [
       "ph                 14.987790\n",
       "Hardness            0.000000\n",
       "Solids              0.000000\n",
       "Chloramines         0.000000\n",
       "Sulfate            23.840049\n",
       "Conductivity        0.000000\n",
       "Organic_carbon      0.000000\n",
       "Trihalomethanes     4.945055\n",
       "Turbidity           0.000000\n",
       "Potability          0.000000\n",
       "dtype: float64"
      ]
     },
     "execution_count": 26,
     "metadata": {},
     "output_type": "execute_result"
    }
   ],
   "source": [
    "(Data.isnull().sum()/len(Data))*100\n",
    "\n",
    "#porcentagem de NaN"
   ]
  },
  {
   "cell_type": "code",
   "execution_count": 27,
   "id": "1c316ae5-9b4a-4941-b50b-706571033cd9",
   "metadata": {},
   "outputs": [
    {
     "data": {
      "text/plain": [
       "count    3114.000000\n",
       "mean       66.396293\n",
       "std        16.175008\n",
       "min         0.738000\n",
       "25%        55.844536\n",
       "50%        66.622485\n",
       "75%        77.337473\n",
       "max       124.000000\n",
       "Name: Trihalomethanes, dtype: float64"
      ]
     },
     "execution_count": 27,
     "metadata": {},
     "output_type": "execute_result"
    }
   ],
   "source": [
    "Data.Trihalomethanes.describe()"
   ]
  },
  {
   "cell_type": "code",
   "execution_count": 28,
   "id": "26b1affb-01b5-4045-99af-0736a9489262",
   "metadata": {},
   "outputs": [
    {
     "data": {
      "text/plain": [
       "count    2495.000000\n",
       "mean      333.775777\n",
       "std        41.416840\n",
       "min       129.000000\n",
       "25%       307.699498\n",
       "50%       333.073546\n",
       "75%       359.950170\n",
       "max       481.030642\n",
       "Name: Sulfate, dtype: float64"
      ]
     },
     "execution_count": 28,
     "metadata": {},
     "output_type": "execute_result"
    }
   ],
   "source": [
    "Data.Sulfate.describe()"
   ]
  },
  {
   "cell_type": "code",
   "execution_count": 29,
   "id": "f9adbbcd-17fe-45e1-8f40-d0f6994dcc90",
   "metadata": {},
   "outputs": [
    {
     "data": {
      "text/plain": [
       "count    2785.000000\n",
       "mean        7.080795\n",
       "std         1.594320\n",
       "min         0.000000\n",
       "25%         6.093092\n",
       "50%         7.036752\n",
       "75%         8.062066\n",
       "max        14.000000\n",
       "Name: ph, dtype: float64"
      ]
     },
     "execution_count": 29,
     "metadata": {},
     "output_type": "execute_result"
    }
   ],
   "source": [
    "Data.ph.describe()"
   ]
  },
  {
   "cell_type": "markdown",
   "id": "82bcb26a-0f51-45d9-8f9b-bb24698ff5c9",
   "metadata": {},
   "source": [
    "Substituindo os NaN pela mediana da coluna"
   ]
  },
  {
   "cell_type": "code",
   "execution_count": 34,
   "id": "19d86a13-3750-4670-878f-79b32255af7c",
   "metadata": {},
   "outputs": [],
   "source": [
    "Data.ph.fillna(value = Data.ph.median(), inplace = True)\n",
    "Data.Sulfate.fillna(Data.Sulfate.median(),inplace = True)\n",
    "Data.Trihalomethanes.fillna(Data.Trihalomethanes.median(),inplace=True)"
   ]
  },
  {
   "cell_type": "code",
   "execution_count": 36,
   "id": "1f8ce85f-079a-413e-9228-11cb8d9b9a2a",
   "metadata": {},
   "outputs": [
    {
     "data": {
      "text/plain": [
       "ph                 0\n",
       "Hardness           0\n",
       "Solids             0\n",
       "Chloramines        0\n",
       "Sulfate            0\n",
       "Conductivity       0\n",
       "Organic_carbon     0\n",
       "Trihalomethanes    0\n",
       "Turbidity          0\n",
       "Potability         0\n",
       "dtype: int64"
      ]
     },
     "execution_count": 36,
     "metadata": {},
     "output_type": "execute_result"
    }
   ],
   "source": [
    "Data.isnull().sum()"
   ]
  },
  {
   "cell_type": "code",
   "execution_count": 38,
   "id": "23ac3a91-e467-4a47-93a0-5431dadf29ac",
   "metadata": {},
   "outputs": [
    {
     "name": "stdout",
     "output_type": "stream",
     "text": [
      "<class 'pandas.core.frame.DataFrame'>\n",
      "RangeIndex: 3276 entries, 0 to 3275\n",
      "Data columns (total 10 columns):\n",
      " #   Column           Non-Null Count  Dtype  \n",
      "---  ------           --------------  -----  \n",
      " 0   ph               3276 non-null   float64\n",
      " 1   Hardness         3276 non-null   float64\n",
      " 2   Solids           3276 non-null   float64\n",
      " 3   Chloramines      3276 non-null   float64\n",
      " 4   Sulfate          3276 non-null   float64\n",
      " 5   Conductivity     3276 non-null   float64\n",
      " 6   Organic_carbon   3276 non-null   float64\n",
      " 7   Trihalomethanes  3276 non-null   float64\n",
      " 8   Turbidity        3276 non-null   float64\n",
      " 9   Potability       3276 non-null   int64  \n",
      "dtypes: float64(9), int64(1)\n",
      "memory usage: 256.1 KB\n"
     ]
    }
   ],
   "source": [
    "Data.info()"
   ]
  },
  {
   "cell_type": "code",
   "execution_count": 42,
   "id": "a3cb43ba-82a3-41a4-a2a6-606b013d7adf",
   "metadata": {},
   "outputs": [
    {
     "data": {
      "text/plain": [
       "0    60.989011\n",
       "1    39.010989\n",
       "Name: Potability, dtype: float64"
      ]
     },
     "execution_count": 42,
     "metadata": {},
     "output_type": "execute_result"
    }
   ],
   "source": [
    "Data.Potability.value_counts(normalize=True)*100"
   ]
  },
  {
   "cell_type": "markdown",
   "id": "42d512e4-0103-4888-a6de-4cde451e75a4",
   "metadata": {},
   "source": [
    "60,99% não é potável e 39,01 é potável"
   ]
  }
 ],
 "metadata": {
  "kernelspec": {
   "display_name": "Python 3 (ipykernel)",
   "language": "python",
   "name": "python3"
  },
  "language_info": {
   "codemirror_mode": {
    "name": "ipython",
    "version": 3
   },
   "file_extension": ".py",
   "mimetype": "text/x-python",
   "name": "python",
   "nbconvert_exporter": "python",
   "pygments_lexer": "ipython3",
   "version": "3.9.12"
  }
 },
 "nbformat": 4,
 "nbformat_minor": 5
}
